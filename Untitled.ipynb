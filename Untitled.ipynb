{
 "cells": [
  {
   "cell_type": "code",
   "execution_count": 2,
   "metadata": {},
   "outputs": [],
   "source": [
    "#!/usr/bin/python\n",
    "## 6/16/2017 - remove PyQuery dependency\n",
    "## 5/19/2016 - update to allow for authentication based on api-key, rather than username/pw\n",
    "## See https://documentation.uts.nlm.nih.gov/rest/authentication.html for full explanation\n",
    "\n",
    "import requests\n",
    "#from pyquery import PyQuery as pq\n",
    "import lxml.html as lh\n",
    "from lxml.html import fromstring\n",
    "\n",
    "uri=\"https://utslogin.nlm.nih.gov\"\n",
    "#option 1 - username/pw authentication at /cas/v1/tickets\n",
    "#auth_endpoint = \"/cas/v1/tickets/\"\n",
    "#option 2 - api key authentication at /cas/v1/api-key\n",
    "auth_endpoint = \"/cas/v1/api-key\"\n",
    "\n",
    "class Authentication:\n",
    "\n",
    "   #def __init__(self, username,password):\n",
    "   def __init__(self, apikey):\n",
    "    #self.username=username\n",
    "    #self.password=password\n",
    "    self.apikey=apikey\n",
    "    self.service=\"http://umlsks.nlm.nih.gov\"\n",
    "\n",
    "   def gettgt(self):\n",
    "     #params = {'username': self.username,'password': self.password}\n",
    "     params = {'apikey': self.apikey}\n",
    "     h = {\"Content-type\": \"application/x-www-form-urlencoded\", \"Accept\": \"text/plain\", \"User-Agent\":\"python\" }\n",
    "     r = requests.post(uri+auth_endpoint,data=params,headers=h)\n",
    "     response = fromstring(r.text)\n",
    "     ## extract the entire URL needed from the HTML form (action attribute) returned - looks similar to https://utslogin.nlm.nih.gov/cas/v1/tickets/TGT-36471-aYqNLN2rFIJPXKzxwdTNC5ZT7z3B3cTAKfSc5ndHQcUxeaDOLN-cas\n",
    "     ## we make a POST call to this URL in the getst method\n",
    "     tgt = response.xpath('//form/@action')[0]\n",
    "     return tgt\n",
    "\n",
    "   def getst(self,tgt):\n",
    "\n",
    "     params = {'service': self.service}\n",
    "     h = {\"Content-type\": \"application/x-www-form-urlencoded\", \"Accept\": \"text/plain\", \"User-Agent\":\"python\" }\n",
    "     r = requests.post(tgt,data=params,headers=h)\n",
    "     st = r.text\n",
    "     return st"
   ]
  },
  {
   "cell_type": "code",
   "execution_count": 6,
   "metadata": {},
   "outputs": [
    {
     "ename": "KeyError",
     "evalue": "'result'",
     "output_type": "error",
     "traceback": [
      "\u001b[0;31m---------------------------------------------------------------------------\u001b[0m",
      "\u001b[0;31mKeyError\u001b[0m                                  Traceback (most recent call last)",
      "\u001b[0;32m<ipython-input-6-e27521bdf7ca>\u001b[0m in \u001b[0;36m<module>\u001b[0;34m\u001b[0m\n\u001b[1;32m     25\u001b[0m \u001b[0mr\u001b[0m\u001b[0;34m.\u001b[0m\u001b[0mencoding\u001b[0m \u001b[0;34m=\u001b[0m \u001b[0;34m'utf-8'\u001b[0m\u001b[0;34m\u001b[0m\u001b[0;34m\u001b[0m\u001b[0m\n\u001b[1;32m     26\u001b[0m \u001b[0mitems\u001b[0m  \u001b[0;34m=\u001b[0m \u001b[0mjson\u001b[0m\u001b[0;34m.\u001b[0m\u001b[0mloads\u001b[0m\u001b[0;34m(\u001b[0m\u001b[0mr\u001b[0m\u001b[0;34m.\u001b[0m\u001b[0mtext\u001b[0m\u001b[0;34m)\u001b[0m\u001b[0;34m\u001b[0m\u001b[0;34m\u001b[0m\u001b[0m\n\u001b[0;32m---> 27\u001b[0;31m \u001b[0mjsonData\u001b[0m \u001b[0;34m=\u001b[0m \u001b[0mitems\u001b[0m\u001b[0;34m[\u001b[0m\u001b[0;34m\"result\"\u001b[0m\u001b[0;34m]\u001b[0m\u001b[0;34m\u001b[0m\u001b[0;34m\u001b[0m\u001b[0m\n\u001b[0m\u001b[1;32m     28\u001b[0m \u001b[0mprint\u001b[0m\u001b[0;34m(\u001b[0m\u001b[0mjsonData\u001b[0m\u001b[0;34m)\u001b[0m\u001b[0;34m\u001b[0m\u001b[0;34m\u001b[0m\u001b[0m\n",
      "\u001b[0;31mKeyError\u001b[0m: 'result'"
     ]
    }
   ],
   "source": [
    "from Authentication import *\n",
    "import requests\n",
    "import json\n",
    "import argparse\n",
    "\n",
    "\n",
    "\n",
    "apikey = \"1214614b-5188-463a-92f4-1365a18813cf\"\n",
    "version = \"current\"\n",
    "cui = \"C1524029\"\n",
    "AuthClient = Authentication(apikey)\n",
    "\n",
    "###################################\n",
    "#get TGT for our session\n",
    "###################################\n",
    "\n",
    "tgt = AuthClient.gettgt()\n",
    "uri = \"https://uts-ws.nlm.nih.gov\"\n",
    "\n",
    "content_endpoint = \"/rest/content/current/CUI/\" + cui +\"/atoms?sabs=SNOMEDCT_US,CHV\"\n",
    "\n",
    "##ticket is the only parameter needed for this call - paging does not come into play because we're only asking for one Json object\n",
    "query = {'ticket':AuthClient.getst(tgt)}\n",
    "r = requests.get(uri+content_endpoint,params=query)\n",
    "r.encoding = 'utf-8'\n",
    "items  = json.loads(r.text)\n",
    "jsonData = items[\"result\"]\n",
    "print(jsonData)\n"
   ]
  },
  {
   "cell_type": "code",
   "execution_count": null,
   "metadata": {},
   "outputs": [],
   "source": []
  }
 ],
 "metadata": {
  "kernelspec": {
   "display_name": "Python 3",
   "language": "python",
   "name": "python3"
  },
  "language_info": {
   "codemirror_mode": {
    "name": "ipython",
    "version": 3
   },
   "file_extension": ".py",
   "mimetype": "text/x-python",
   "name": "python",
   "nbconvert_exporter": "python",
   "pygments_lexer": "ipython3",
   "version": "3.8.5"
  }
 },
 "nbformat": 4,
 "nbformat_minor": 4
}
